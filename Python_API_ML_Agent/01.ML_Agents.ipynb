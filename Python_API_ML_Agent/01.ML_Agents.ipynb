{
 "cells": [
  {
   "attachments": {},
   "cell_type": "markdown",
   "metadata": {},
   "source": [
    "## Python-API를 이용해 ML-Agents 사용하기\n",
    "\n",
    "ML-Agents를 사용하여 제작한 환경을 학습하는 방법 중 두 번째 방법은 ML-Agents의 Python-API를 사용하여 직접 구성한 파이썬 코드를 통해 에이전트를 학습하는 것입니다. 이번 절에서는 Python-API의 기본적인 사용법을 알아보고 이를 통해 ML-Agents 환경을 랜덤하게 제어하는 방법을 알아보겠습니다."
   ]
  },
  {
   "cell_type": "code",
   "execution_count": 1,
   "metadata": {},
   "outputs": [
    {
     "name": "stdout",
     "output_type": "stream",
     "text": [
      "[WARNING] Environment timed out shutting down. Killing...\n"
     ]
    },
    {
     "ename": "UnityTimeOutException",
     "evalue": "The Unity environment took too long to respond. Make sure that :\n\t The environment does not need user interaction to launch\n\t The Agents' Behavior Parameters > Behavior Type is set to \"Default\"\n\t The environment and the Python interface have compatible versions.",
     "output_type": "error",
     "traceback": [
      "\u001b[1;31m---------------------------------------------------------------------------\u001b[0m",
      "\u001b[1;31mUnityTimeOutException\u001b[0m                     Traceback (most recent call last)",
      "Cell \u001b[1;32mIn[1], line 5\u001b[0m\n\u001b[0;32m      1\u001b[0m \u001b[39mfrom\u001b[39;00m \u001b[39mmlagents_envs\u001b[39;00m\u001b[39m.\u001b[39;00m\u001b[39menvironment\u001b[39;00m \u001b[39mimport\u001b[39;00m UnityEnvironment\n\u001b[0;32m      3\u001b[0m \u001b[39mif\u001b[39;00m \u001b[39m__name__\u001b[39m \u001b[39m==\u001b[39m \u001b[39m'\u001b[39m\u001b[39m__main__\u001b[39m\u001b[39m'\u001b[39m:\n\u001b[0;32m      4\u001b[0m     \u001b[39m# 환경을 정의\u001b[39;00m\n\u001b[1;32m----> 5\u001b[0m     env \u001b[39m=\u001b[39m UnityEnvironment(file_name\u001b[39m=\u001b[39;49m\u001b[39m'\u001b[39;49m\u001b[39m../ML_Agents_Project/env/3DBall\u001b[39;49m\u001b[39m'\u001b[39;49m)\n\u001b[0;32m      7\u001b[0m     \u001b[39m# behavior 불러오기\u001b[39;00m\n\u001b[0;32m      8\u001b[0m     env\u001b[39m.\u001b[39mreset()\n",
      "File \u001b[1;32mc:\\Users\\aqs45\\anaconda3\\envs\\RL\\lib\\site-packages\\mlagents_envs\\environment.py:223\u001b[0m, in \u001b[0;36mUnityEnvironment.__init__\u001b[1;34m(self, file_name, worker_id, base_port, seed, no_graphics, timeout_wait, additional_args, side_channels, log_folder)\u001b[0m\n\u001b[0;32m    216\u001b[0m rl_init_parameters_in \u001b[39m=\u001b[39m UnityRLInitializationInputProto(\n\u001b[0;32m    217\u001b[0m     seed\u001b[39m=\u001b[39mseed,\n\u001b[0;32m    218\u001b[0m     communication_version\u001b[39m=\u001b[39m\u001b[39mself\u001b[39m\u001b[39m.\u001b[39mAPI_VERSION,\n\u001b[0;32m    219\u001b[0m     package_version\u001b[39m=\u001b[39mmlagents_envs\u001b[39m.\u001b[39m__version__,\n\u001b[0;32m    220\u001b[0m     capabilities\u001b[39m=\u001b[39mUnityEnvironment\u001b[39m.\u001b[39m_get_capabilities_proto(),\n\u001b[0;32m    221\u001b[0m )\n\u001b[0;32m    222\u001b[0m \u001b[39mtry\u001b[39;00m:\n\u001b[1;32m--> 223\u001b[0m     aca_output \u001b[39m=\u001b[39m \u001b[39mself\u001b[39;49m\u001b[39m.\u001b[39;49m_send_academy_parameters(rl_init_parameters_in)\n\u001b[0;32m    224\u001b[0m     aca_params \u001b[39m=\u001b[39m aca_output\u001b[39m.\u001b[39mrl_initialization_output\n\u001b[0;32m    225\u001b[0m \u001b[39mexcept\u001b[39;00m UnityTimeOutException:\n",
      "File \u001b[1;32mc:\\Users\\aqs45\\anaconda3\\envs\\RL\\lib\\site-packages\\mlagents_envs\\environment.py:477\u001b[0m, in \u001b[0;36mUnityEnvironment._send_academy_parameters\u001b[1;34m(self, init_parameters)\u001b[0m\n\u001b[0;32m    475\u001b[0m inputs \u001b[39m=\u001b[39m UnityInputProto()\n\u001b[0;32m    476\u001b[0m inputs\u001b[39m.\u001b[39mrl_initialization_input\u001b[39m.\u001b[39mCopyFrom(init_parameters)\n\u001b[1;32m--> 477\u001b[0m \u001b[39mreturn\u001b[39;00m \u001b[39mself\u001b[39;49m\u001b[39m.\u001b[39;49m_communicator\u001b[39m.\u001b[39;49minitialize(inputs, \u001b[39mself\u001b[39;49m\u001b[39m.\u001b[39;49m_poll_process)\n",
      "File \u001b[1;32mc:\\Users\\aqs45\\anaconda3\\envs\\RL\\lib\\site-packages\\mlagents_envs\\rpc_communicator.py:121\u001b[0m, in \u001b[0;36mRpcCommunicator.initialize\u001b[1;34m(self, inputs, poll_callback)\u001b[0m\n\u001b[0;32m    118\u001b[0m \u001b[39mdef\u001b[39;00m \u001b[39minitialize\u001b[39m(\n\u001b[0;32m    119\u001b[0m     \u001b[39mself\u001b[39m, inputs: UnityInputProto, poll_callback: Optional[PollCallback] \u001b[39m=\u001b[39m \u001b[39mNone\u001b[39;00m\n\u001b[0;32m    120\u001b[0m ) \u001b[39m-\u001b[39m\u001b[39m>\u001b[39m UnityOutputProto:\n\u001b[1;32m--> 121\u001b[0m     \u001b[39mself\u001b[39;49m\u001b[39m.\u001b[39;49mpoll_for_timeout(poll_callback)\n\u001b[0;32m    122\u001b[0m     aca_param \u001b[39m=\u001b[39m \u001b[39mself\u001b[39m\u001b[39m.\u001b[39munity_to_external\u001b[39m.\u001b[39mparent_conn\u001b[39m.\u001b[39mrecv()\u001b[39m.\u001b[39munity_output\n\u001b[0;32m    123\u001b[0m     message \u001b[39m=\u001b[39m UnityMessageProto()\n",
      "File \u001b[1;32mc:\\Users\\aqs45\\anaconda3\\envs\\RL\\lib\\site-packages\\mlagents_envs\\rpc_communicator.py:111\u001b[0m, in \u001b[0;36mRpcCommunicator.poll_for_timeout\u001b[1;34m(self, poll_callback)\u001b[0m\n\u001b[0;32m    108\u001b[0m         poll_callback()\n\u001b[0;32m    110\u001b[0m \u001b[39m# Got this far without reading any data from the connection, so it must be dead.\u001b[39;00m\n\u001b[1;32m--> 111\u001b[0m \u001b[39mraise\u001b[39;00m UnityTimeOutException(\n\u001b[0;32m    112\u001b[0m     \u001b[39m\"\u001b[39m\u001b[39mThe Unity environment took too long to respond. Make sure that :\u001b[39m\u001b[39m\\n\u001b[39;00m\u001b[39m\"\u001b[39m\n\u001b[0;32m    113\u001b[0m     \u001b[39m\"\u001b[39m\u001b[39m\\t\u001b[39;00m\u001b[39m The environment does not need user interaction to launch\u001b[39m\u001b[39m\\n\u001b[39;00m\u001b[39m\"\u001b[39m\n\u001b[0;32m    114\u001b[0m     \u001b[39m'\u001b[39m\u001b[39m\\t\u001b[39;00m\u001b[39m The Agents\u001b[39m\u001b[39m\\'\u001b[39;00m\u001b[39m Behavior Parameters > Behavior Type is set to \u001b[39m\u001b[39m\"\u001b[39m\u001b[39mDefault\u001b[39m\u001b[39m\"\u001b[39m\u001b[39m\\n\u001b[39;00m\u001b[39m'\u001b[39m\n\u001b[0;32m    115\u001b[0m     \u001b[39m\"\u001b[39m\u001b[39m\\t\u001b[39;00m\u001b[39m The environment and the Python interface have compatible versions.\u001b[39m\u001b[39m\"\u001b[39m\n\u001b[0;32m    116\u001b[0m )\n",
      "\u001b[1;31mUnityTimeOutException\u001b[0m: The Unity environment took too long to respond. Make sure that :\n\t The environment does not need user interaction to launch\n\t The Agents' Behavior Parameters > Behavior Type is set to \"Default\"\n\t The environment and the Python interface have compatible versions."
     ]
    }
   ],
   "source": [
    "from mlagents_envs.environment import UnityEnvironment\n",
    "\n",
    "if __name__ == '__main__':\n",
    "    # 환경을 정의\n",
    "    env = UnityEnvironment(file_name='../ML_Agents_Project/env/3DBall')\n",
    "\n",
    "    # behavior 불러오기\n",
    "    env.reset()\n",
    "    behavior_name = list(env.behavior_specs.keys())[0]\n",
    "    print('name of behavior: {behavior_name}')\n",
    "    spec = env.behavior_specs[behavior_name]\n"
   ]
  },
  {
   "cell_type": "markdown",
   "metadata": {},
   "source": []
  }
 ],
 "metadata": {
  "kernelspec": {
   "display_name": "RL",
   "language": "python",
   "name": "python3"
  },
  "language_info": {
   "codemirror_mode": {
    "name": "ipython",
    "version": 3
   },
   "file_extension": ".py",
   "mimetype": "text/x-python",
   "name": "python",
   "nbconvert_exporter": "python",
   "pygments_lexer": "ipython3",
   "version": "3.8.16"
  },
  "orig_nbformat": 4,
  "vscode": {
   "interpreter": {
    "hash": "88d3e25082c7abd80728074abb1b937bc665a5434de5a6fd70f871bb725c15ab"
   }
  }
 },
 "nbformat": 4,
 "nbformat_minor": 2
}
