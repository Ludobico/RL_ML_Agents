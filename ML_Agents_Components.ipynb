{
 "cells": [
  {
   "attachments": {},
   "cell_type": "markdown",
   "metadata": {},
   "source": [
    "## ML-Agents의 구성 요소\n",
    "\n",
    "예시로는 아래의 파일을 실행시켰습니다.\n",
    "ML-Agents/Examples/3DBall/Scenes/3DBall.unity\n",
    "\n",
    "## Behavior Parameters\n",
    "\n",
    "첫 번째 요소인 Behavior Parameters는 `Behavior Name`, `Vector Observation`, `Actions`, `Model`, `Behavior Type`, `Team Id`, `Use Child Sensors`, `Observable Arrtibute Handling`으로 구성돼 있습니다.\n",
    "\n",
    "### Behavior Name\n",
    "\n",
    "Behavior Parameters의 이름을 결정합니다. 여러 개의 Behavior Parameters를 사용하는 경우 이들을 구분하기 위한 것이므로 적절한 이름을 설정합니다.\n",
    "\n",
    "### Vector Observation\n",
    "\n",
    "Vector Observation에서는 본 환경에서 사용할 벡터 관측과 관련된 설정을 합니다.\n",
    "\n",
    "* Space Size에서는 현재 환경에서 사용할 벡터 관측의 크기를 설정합니다. 예시에서는 8로 설정돼 있으며 이는 8개의 숫자로 구성된 벡터를 벡터 관측으로 사용한다는 의미입니다.\n",
    "\n",
    "* Stacked Vectors는 벡터 관측의 누적 횟수를 결정합니다. 이는 시간에 따른 누적으로 해당 누적 횟수만큼 시간 스텝에 대해서 벡터 관측을 누적합니다.\n",
    "\n"
   ]
  },
  {
   "cell_type": "markdown",
   "metadata": {},
   "source": []
  }
 ],
 "metadata": {
  "language_info": {
   "name": "python"
  },
  "orig_nbformat": 4
 },
 "nbformat": 4,
 "nbformat_minor": 2
}
